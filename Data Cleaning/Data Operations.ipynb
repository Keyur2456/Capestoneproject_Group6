{
 "cells": [
  {
   "cell_type": "code",
   "execution_count": 21,
   "id": "ec8e5f18-f47a-497f-968c-abd83671f2da",
   "metadata": {},
   "outputs": [],
   "source": [
    "import pandas as pd\n",
    "import numpy as np\n",
    "import matplotlib.pyplot as plt\n",
    "from sklearn.model_selection import train_test_split\n",
    "from sklearn.svm import SVC\n",
    "from sklearn.metrics import f1_score, accuracy_score, confusion_matrix\n",
    "import seaborn as sns\n",
    "from tkinter import *\n",
    "from tkinter import messagebox\n",
    "import sys \n",
    "import urllib\n",
    "import urllib.request\n",
    "from collections import Counter"
   ]
  },
  {
   "cell_type": "code",
   "execution_count": 2,
   "id": "c66af2dd-0681-4433-8f26-d231c8947619",
   "metadata": {},
   "outputs": [],
   "source": [
    "data = pd.read_csv(\"../Dataset/dataset.csv\")"
   ]
  },
  {
   "cell_type": "code",
   "execution_count": 3,
   "id": "28fdc7bb-1c1a-4445-bb52-368114eb5744",
   "metadata": {},
   "outputs": [
    {
     "data": {
      "text/plain": [
       "(4920, 18)"
      ]
     },
     "execution_count": 3,
     "metadata": {},
     "output_type": "execute_result"
    }
   ],
   "source": [
    "data.shape"
   ]
  },
  {
   "cell_type": "code",
   "execution_count": 4,
   "id": "f722eeb5-55ff-41ab-a9b3-9547256d8ab0",
   "metadata": {},
   "outputs": [
    {
     "data": {
      "text/plain": [
       "Index(['Disease', 'Symptom_1', 'Symptom_2', 'Symptom_3', 'Symptom_4',\n",
       "       'Symptom_5', 'Symptom_6', 'Symptom_7', 'Symptom_8', 'Symptom_9',\n",
       "       'Symptom_10', 'Symptom_11', 'Symptom_12', 'Symptom_13', 'Symptom_14',\n",
       "       'Symptom_15', 'Symptom_16', 'Symptom_17'],\n",
       "      dtype='object')"
      ]
     },
     "execution_count": 4,
     "metadata": {},
     "output_type": "execute_result"
    }
   ],
   "source": [
    "data.columns"
   ]
  },
  {
   "cell_type": "code",
   "execution_count": 10,
   "id": "bd46cd31-c51e-4081-a313-a768cfdb8890",
   "metadata": {},
   "outputs": [],
   "source": [
    "Symptoms_columns = data[data.columns[1:]].columns"
   ]
  },
  {
   "cell_type": "code",
   "execution_count": 11,
   "id": "a4c0acea-b2b0-42e0-b09b-21f34a87cc2d",
   "metadata": {},
   "outputs": [
    {
     "data": {
      "text/plain": [
       "Index(['Symptom_1', 'Symptom_2', 'Symptom_3', 'Symptom_4', 'Symptom_5',\n",
       "       'Symptom_6', 'Symptom_7', 'Symptom_8', 'Symptom_9', 'Symptom_10',\n",
       "       'Symptom_11', 'Symptom_12', 'Symptom_13', 'Symptom_14', 'Symptom_15',\n",
       "       'Symptom_16', 'Symptom_17'],\n",
       "      dtype='object')"
      ]
     },
     "execution_count": 11,
     "metadata": {},
     "output_type": "execute_result"
    }
   ],
   "source": [
    "Symptoms_columns"
   ]
  },
  {
   "cell_type": "markdown",
   "id": "9a67857b-565d-4518-af3e-2a3135762c5c",
   "metadata": {},
   "source": [
    "#### Let's get all symptoms and save it into one array"
   ]
  },
  {
   "cell_type": "code",
   "execution_count": 16,
   "id": "0f4fd8d9-e1be-4552-a2c4-ad6b9fb78739",
   "metadata": {},
   "outputs": [],
   "source": [
    "symptoms = []\n",
    "for col in Symptoms_columns :\n",
    "    symptoms = symptoms + list(data[Symptoms_columns[0]].values)"
   ]
  },
  {
   "cell_type": "code",
   "execution_count": 18,
   "id": "3fdae769-ed2f-4e2f-b098-53a736dc97da",
   "metadata": {},
   "outputs": [
    {
     "data": {
      "text/plain": [
       "['itching', ' skin_rash', 'itching', 'itching', 'itching']"
      ]
     },
     "execution_count": 18,
     "metadata": {},
     "output_type": "execute_result"
    }
   ],
   "source": [
    "symptoms[:5]"
   ]
  },
  {
   "cell_type": "code",
   "execution_count": 22,
   "id": "9f9de903-1aac-4292-a3fe-df3e65758b7c",
   "metadata": {},
   "outputs": [],
   "source": [
    "counter = Counter(symptoms)"
   ]
  },
  {
   "cell_type": "code",
   "execution_count": 23,
   "id": "58b66c4f-6fa0-4e03-bbd9-83c4b1d042e8",
   "metadata": {},
   "outputs": [
    {
     "data": {
      "text/plain": [
       "Counter({'itching': 11526,\n",
       "         ' skin_rash': 8160,\n",
       "         ' continuous_sneezing': 3774,\n",
       "         ' shivering': 204,\n",
       "         ' stomach_pain': 1938,\n",
       "         ' acidity': 2040,\n",
       "         ' vomiting': 13974,\n",
       "         ' indigestion': 204,\n",
       "         ' muscle_wasting': 1836,\n",
       "         ' patches_in_throat': 204,\n",
       "         ' fatigue': 11730,\n",
       "         ' weight_loss': 102,\n",
       "         ' sunken_eyes': 204,\n",
       "         ' cough': 204,\n",
       "         ' headache': 2142,\n",
       "         ' chest_pain': 204,\n",
       "         ' back_pain': 1836,\n",
       "         ' weakness_in_limbs': 204,\n",
       "         ' chills': 8058,\n",
       "         ' joint_pain': 7854,\n",
       "         ' yellowish_skin': 204,\n",
       "         ' constipation': 1938,\n",
       "         ' pain_during_bowel_movements': 102,\n",
       "         ' breathlessness': 204,\n",
       "         ' cramps': 102,\n",
       "         ' weight_gain': 204,\n",
       "         ' mood_swings': 102,\n",
       "         ' neck_pain': 102,\n",
       "         ' muscle_weakness': 1938,\n",
       "         ' stiff_neck': 102,\n",
       "         ' pus_filled_pimples': 102,\n",
       "         ' burning_micturition': 1836,\n",
       "         ' bladder_discomfort': 204,\n",
       "         ' high_fever': 102})"
      ]
     },
     "execution_count": 23,
     "metadata": {},
     "output_type": "execute_result"
    }
   ],
   "source": [
    "counter"
   ]
  },
  {
   "cell_type": "code",
   "execution_count": 24,
   "id": "65032091-796d-4094-bc89-65dcc78724b4",
   "metadata": {},
   "outputs": [],
   "source": [
    "results = pd.Series(dict(counter))"
   ]
  },
  {
   "cell_type": "code",
   "execution_count": 27,
   "id": "c3e62a8b-a005-4786-b753-a34f6f12d975",
   "metadata": {},
   "outputs": [
    {
     "data": {
      "text/plain": [
       "itching                 11526\n",
       " skin_rash               8160\n",
       " continuous_sneezing     3774\n",
       " shivering                204\n",
       " stomach_pain            1938\n",
       "dtype: int64"
      ]
     },
     "execution_count": 27,
     "metadata": {},
     "output_type": "execute_result"
    }
   ],
   "source": [
    "results.head()"
   ]
  },
  {
   "cell_type": "code",
   "execution_count": 32,
   "id": "2d396102-e461-4746-9a42-1c757373bdd9",
   "metadata": {},
   "outputs": [
    {
     "data": {
      "text/plain": [
       "<AxesSubplot:>"
      ]
     },
     "execution_count": 32,
     "metadata": {},
     "output_type": "execute_result"
    },
    {
     "data": {
      "image/png": "[encoded data removed]",
      "text/plain": [
       "<Figure size 2000x800 with 1 Axes>"
      ]
     },
     "metadata": {},
     "output_type": "display_data"
    }
   ],
   "source": [
    "results.head().sort_values(ascending=True).plot(kind='barh', color='black',figsize=(20,8))"
   ]
  },
  {
   "cell_type": "code",
   "execution_count": null,
   "id": "9492b09f-c30e-4cac-bac5-ae023187ddae",
   "metadata": {},
   "outputs": [],
   "source": []
  }
 ],
 "metadata": {
  "kernelspec": {
   "display_name": "Python 3 (ipykernel)",
   "language": "python",
   "name": "python3"
  },
  "language_info": {
   "codemirror_mode": {
    "name": "ipython",
    "version": 3
   },
   "file_extension": ".py",
   "mimetype": "text/x-python",
   "name": "python",
   "nbconvert_exporter": "python",
   "pygments_lexer": "ipython3",
   "version": "3.9.13"
  }
 },
 "nbformat": 4,
 "nbformat_minor": 5
}
