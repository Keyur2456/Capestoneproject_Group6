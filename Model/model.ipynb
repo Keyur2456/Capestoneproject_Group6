{
 "cells": [
  {
   "cell_type": "code",
   "execution_count": 46,
   "id": "cfcd4562-3168-4814-9365-ebce80f794b1",
   "metadata": {},
   "outputs": [],
   "source": [
    "from sklearn.neighbors import KNeighborsClassifier\n",
    "from sklearn.tree import DecisionTreeClassifier\n",
    "from sklearn.metrics import classification_report\n",
    "from sklearn.model_selection import GridSearchCV\n",
    "import pandas as pd\n",
    "from nltk.corpus import wordnet as wn \n",
    "import csv\n",
    "import numpy as np\n",
    "import warnings\n",
    "warnings.filterwarnings(\"ignore\")"
   ]
  },
  {
   "cell_type": "code",
   "execution_count": 88,
   "id": "57605d49-ae72-422f-9b56-0f89890c0f4d",
   "metadata": {},
   "outputs": [],
   "source": [
    "data = pd.read_csv(\"../Filtered Data/training.csv\")"
   ]
  },
  {
   "cell_type": "code",
   "execution_count": 89,
   "id": "55a66a93-ad1e-42a6-9a3b-a9cdeaf44761",
   "metadata": {},
   "outputs": [
    {
     "data": {
      "text/plain": [
       "(4920, 174)"
      ]
     },
     "execution_count": 89,
     "metadata": {},
     "output_type": "execute_result"
    }
   ],
   "source": [
    "data.shape"
   ]
  },
  {
   "cell_type": "code",
   "execution_count": 90,
   "id": "ef3ad9cf-16a5-44eb-b0f5-dd3498762a3d",
   "metadata": {},
   "outputs": [
    {
     "data": {
      "text/html": [
       "<div>\n",
       "<style scoped>\n",
       "    .dataframe tbody tr th:only-of-type {\n",
       "        vertical-align: middle;\n",
       "    }\n",
       "\n",
       "    .dataframe tbody tr th {\n",
       "        vertical-align: top;\n",
       "    }\n",
       "\n",
       "    .dataframe thead th {\n",
       "        text-align: right;\n",
       "    }\n",
       "</style>\n",
       "<table border=\"1\" class=\"dataframe\">\n",
       "  <thead>\n",
       "    <tr style=\"text-align: right;\">\n",
       "      <th></th>\n",
       "      <th>Unnamed: 0</th>\n",
       "      <th>coma</th>\n",
       "      <th>cramps</th>\n",
       "      <th>sweating</th>\n",
       "      <th>skin_rash</th>\n",
       "      <th>rusty_sputum</th>\n",
       "      <th>mild_fever</th>\n",
       "      <th>excessive_hunger</th>\n",
       "      <th>cough</th>\n",
       "      <th>lack_of_concentration</th>\n",
       "      <th>...</th>\n",
       "      <th>Hyperthyroidism</th>\n",
       "      <th>Hypoglycemia</th>\n",
       "      <th>Osteoarthristis</th>\n",
       "      <th>Arthritis</th>\n",
       "      <th>(vertigo) Paroymsal  Positional Vertigo</th>\n",
       "      <th>Acne</th>\n",
       "      <th>Urinary tract infection</th>\n",
       "      <th>Psoriasis</th>\n",
       "      <th>Impetigo</th>\n",
       "      <th>disease</th>\n",
       "    </tr>\n",
       "  </thead>\n",
       "  <tbody>\n",
       "    <tr>\n",
       "      <th>0</th>\n",
       "      <td>0</td>\n",
       "      <td>0.0</td>\n",
       "      <td>0.0</td>\n",
       "      <td>0.0</td>\n",
       "      <td>1.0</td>\n",
       "      <td>0.0</td>\n",
       "      <td>0.0</td>\n",
       "      <td>0.0</td>\n",
       "      <td>0.0</td>\n",
       "      <td>0.0</td>\n",
       "      <td>...</td>\n",
       "      <td>0.0</td>\n",
       "      <td>0.0</td>\n",
       "      <td>0.0</td>\n",
       "      <td>0.0</td>\n",
       "      <td>0.0</td>\n",
       "      <td>0.0</td>\n",
       "      <td>0.0</td>\n",
       "      <td>0.0</td>\n",
       "      <td>0.0</td>\n",
       "      <td>Fungal infection</td>\n",
       "    </tr>\n",
       "    <tr>\n",
       "      <th>1</th>\n",
       "      <td>1</td>\n",
       "      <td>0.0</td>\n",
       "      <td>0.0</td>\n",
       "      <td>0.0</td>\n",
       "      <td>1.0</td>\n",
       "      <td>0.0</td>\n",
       "      <td>0.0</td>\n",
       "      <td>0.0</td>\n",
       "      <td>0.0</td>\n",
       "      <td>0.0</td>\n",
       "      <td>...</td>\n",
       "      <td>0.0</td>\n",
       "      <td>0.0</td>\n",
       "      <td>0.0</td>\n",
       "      <td>0.0</td>\n",
       "      <td>0.0</td>\n",
       "      <td>0.0</td>\n",
       "      <td>0.0</td>\n",
       "      <td>0.0</td>\n",
       "      <td>0.0</td>\n",
       "      <td>Fungal infection</td>\n",
       "    </tr>\n",
       "    <tr>\n",
       "      <th>2</th>\n",
       "      <td>2</td>\n",
       "      <td>0.0</td>\n",
       "      <td>0.0</td>\n",
       "      <td>0.0</td>\n",
       "      <td>0.0</td>\n",
       "      <td>0.0</td>\n",
       "      <td>0.0</td>\n",
       "      <td>0.0</td>\n",
       "      <td>0.0</td>\n",
       "      <td>0.0</td>\n",
       "      <td>...</td>\n",
       "      <td>0.0</td>\n",
       "      <td>0.0</td>\n",
       "      <td>0.0</td>\n",
       "      <td>0.0</td>\n",
       "      <td>0.0</td>\n",
       "      <td>0.0</td>\n",
       "      <td>0.0</td>\n",
       "      <td>0.0</td>\n",
       "      <td>0.0</td>\n",
       "      <td>Fungal infection</td>\n",
       "    </tr>\n",
       "    <tr>\n",
       "      <th>3</th>\n",
       "      <td>3</td>\n",
       "      <td>0.0</td>\n",
       "      <td>0.0</td>\n",
       "      <td>0.0</td>\n",
       "      <td>1.0</td>\n",
       "      <td>0.0</td>\n",
       "      <td>0.0</td>\n",
       "      <td>0.0</td>\n",
       "      <td>0.0</td>\n",
       "      <td>0.0</td>\n",
       "      <td>...</td>\n",
       "      <td>0.0</td>\n",
       "      <td>0.0</td>\n",
       "      <td>0.0</td>\n",
       "      <td>0.0</td>\n",
       "      <td>0.0</td>\n",
       "      <td>0.0</td>\n",
       "      <td>0.0</td>\n",
       "      <td>0.0</td>\n",
       "      <td>0.0</td>\n",
       "      <td>Fungal infection</td>\n",
       "    </tr>\n",
       "    <tr>\n",
       "      <th>4</th>\n",
       "      <td>4</td>\n",
       "      <td>0.0</td>\n",
       "      <td>0.0</td>\n",
       "      <td>0.0</td>\n",
       "      <td>1.0</td>\n",
       "      <td>0.0</td>\n",
       "      <td>0.0</td>\n",
       "      <td>0.0</td>\n",
       "      <td>0.0</td>\n",
       "      <td>0.0</td>\n",
       "      <td>...</td>\n",
       "      <td>0.0</td>\n",
       "      <td>0.0</td>\n",
       "      <td>0.0</td>\n",
       "      <td>0.0</td>\n",
       "      <td>0.0</td>\n",
       "      <td>0.0</td>\n",
       "      <td>0.0</td>\n",
       "      <td>0.0</td>\n",
       "      <td>0.0</td>\n",
       "      <td>Fungal infection</td>\n",
       "    </tr>\n",
       "  </tbody>\n",
       "</table>\n",
       "<p>5 rows × 174 columns</p>\n",
       "</div>"
      ],
      "text/plain": [
       "   Unnamed: 0  coma  cramps  sweating  skin_rash  rusty_sputum  mild_fever  \\\n",
       "0           0   0.0     0.0       0.0        1.0           0.0         0.0   \n",
       "1           1   0.0     0.0       0.0        1.0           0.0         0.0   \n",
       "2           2   0.0     0.0       0.0        0.0           0.0         0.0   \n",
       "3           3   0.0     0.0       0.0        1.0           0.0         0.0   \n",
       "4           4   0.0     0.0       0.0        1.0           0.0         0.0   \n",
       "\n",
       "   excessive_hunger  cough  lack_of_concentration  ...  Hyperthyroidism  \\\n",
       "0               0.0    0.0                    0.0  ...              0.0   \n",
       "1               0.0    0.0                    0.0  ...              0.0   \n",
       "2               0.0    0.0                    0.0  ...              0.0   \n",
       "3               0.0    0.0                    0.0  ...              0.0   \n",
       "4               0.0    0.0                    0.0  ...              0.0   \n",
       "\n",
       "   Hypoglycemia  Osteoarthristis  Arthritis  \\\n",
       "0           0.0              0.0        0.0   \n",
       "1           0.0              0.0        0.0   \n",
       "2           0.0              0.0        0.0   \n",
       "3           0.0              0.0        0.0   \n",
       "4           0.0              0.0        0.0   \n",
       "\n",
       "   (vertigo) Paroymsal  Positional Vertigo  Acne  Urinary tract infection  \\\n",
       "0                                      0.0   0.0                      0.0   \n",
       "1                                      0.0   0.0                      0.0   \n",
       "2                                      0.0   0.0                      0.0   \n",
       "3                                      0.0   0.0                      0.0   \n",
       "4                                      0.0   0.0                      0.0   \n",
       "\n",
       "   Psoriasis  Impetigo           disease  \n",
       "0        0.0       0.0  Fungal infection  \n",
       "1        0.0       0.0  Fungal infection  \n",
       "2        0.0       0.0  Fungal infection  \n",
       "3        0.0       0.0  Fungal infection  \n",
       "4        0.0       0.0  Fungal infection  \n",
       "\n",
       "[5 rows x 174 columns]"
      ]
     },
     "execution_count": 90,
     "metadata": {},
     "output_type": "execute_result"
    }
   ],
   "source": [
    "data.head()"
   ]
  },
  {
   "cell_type": "code",
   "execution_count": 91,
   "id": "98be60fb-417e-4c18-b9b8-512152fcb7ef",
   "metadata": {},
   "outputs": [],
   "source": [
    "data.drop('Unnamed: 0',axis=1, inplace=True)"
   ]
  },
  {
   "cell_type": "code",
   "execution_count": 92,
   "id": "98cba0be-7ce7-482c-ac97-4173cefeb84b",
   "metadata": {},
   "outputs": [],
   "source": [
    "symp_new = data.columns"
   ]
  },
  {
   "cell_type": "code",
   "execution_count": 93,
   "id": "2841e4f7-3238-46ee-b27f-9815f5093ca8",
   "metadata": {},
   "outputs": [
    {
     "name": "stdout",
     "output_type": "stream",
     "text": [
      "      coma  cramps  sweating  skin_rash  rusty_sputum  mild_fever  \\\n",
      "0      0.0     0.0       0.0        1.0           0.0         0.0   \n",
      "1      0.0     0.0       0.0        1.0           0.0         0.0   \n",
      "2      0.0     0.0       0.0        0.0           0.0         0.0   \n",
      "3      0.0     0.0       0.0        1.0           0.0         0.0   \n",
      "4      0.0     0.0       0.0        1.0           0.0         0.0   \n",
      "...    ...     ...       ...        ...           ...         ...   \n",
      "4915   0.0     0.0       0.0        0.0           0.0         0.0   \n",
      "4916   0.0     0.0       0.0        1.0           0.0         0.0   \n",
      "4917   0.0     0.0       0.0        0.0           0.0         0.0   \n",
      "4918   0.0     0.0       0.0        1.0           0.0         0.0   \n",
      "4919   0.0     0.0       0.0        1.0           0.0         0.0   \n",
      "\n",
      "      excessive_hunger  cough  lack_of_concentration  pain_behind_the_eyes  \\\n",
      "0                  0.0    0.0                    0.0                   0.0   \n",
      "1                  0.0    0.0                    0.0                   0.0   \n",
      "2                  0.0    0.0                    0.0                   0.0   \n",
      "3                  0.0    0.0                    0.0                   0.0   \n",
      "4                  0.0    0.0                    0.0                   0.0   \n",
      "...                ...    ...                    ...                   ...   \n",
      "4915               0.0    0.0                    0.0                   0.0   \n",
      "4916               0.0    0.0                    0.0                   0.0   \n",
      "4917               0.0    0.0                    0.0                   0.0   \n",
      "4918               0.0    0.0                    0.0                   0.0   \n",
      "4919               0.0    0.0                    0.0                   0.0   \n",
      "\n",
      "      ...  Hyperthyroidism  Hypoglycemia  Osteoarthristis  Arthritis  \\\n",
      "0     ...              0.0           0.0              0.0        0.0   \n",
      "1     ...              0.0           0.0              0.0        0.0   \n",
      "2     ...              0.0           0.0              0.0        0.0   \n",
      "3     ...              0.0           0.0              0.0        0.0   \n",
      "4     ...              0.0           0.0              0.0        0.0   \n",
      "...   ...              ...           ...              ...        ...   \n",
      "4915  ...              0.0           0.0              0.0        0.0   \n",
      "4916  ...              0.0           0.0              0.0        0.0   \n",
      "4917  ...              0.0           0.0              0.0        0.0   \n",
      "4918  ...              0.0           0.0              0.0        0.0   \n",
      "4919  ...              0.0           0.0              0.0        0.0   \n",
      "\n",
      "      (vertigo) Paroymsal  Positional Vertigo  Acne  Urinary tract infection  \\\n",
      "0                                         0.0   0.0                      0.0   \n",
      "1                                         0.0   0.0                      0.0   \n",
      "2                                         0.0   0.0                      0.0   \n",
      "3                                         0.0   0.0                      0.0   \n",
      "4                                         0.0   0.0                      0.0   \n",
      "...                                       ...   ...                      ...   \n",
      "4915                                      1.0   0.0                      0.0   \n",
      "4916                                      0.0   1.0                      0.0   \n",
      "4917                                      0.0   0.0                      1.0   \n",
      "4918                                      0.0   0.0                      0.0   \n",
      "4919                                      0.0   0.0                      0.0   \n",
      "\n",
      "      Psoriasis  Impetigo                                  disease  \n",
      "0           0.0       0.0                         Fungal infection  \n",
      "1           0.0       0.0                         Fungal infection  \n",
      "2           0.0       0.0                         Fungal infection  \n",
      "3           0.0       0.0                         Fungal infection  \n",
      "4           0.0       0.0                         Fungal infection  \n",
      "...         ...       ...                                      ...  \n",
      "4915        0.0       0.0  (vertigo) Paroymsal  Positional Vertigo  \n",
      "4916        0.0       0.0                                     Acne  \n",
      "4917        0.0       0.0                  Urinary tract infection  \n",
      "4918        1.0       0.0                                Psoriasis  \n",
      "4919        0.0       1.0                                 Impetigo  \n",
      "\n",
      "[4920 rows x 173 columns]\n"
     ]
    }
   ],
   "source": [
    "X= data[symp_new]\n",
    "y = data[[\"disease\"]]\n",
    "np.ravel(y)\n",
    "print(X)"
   ]
  },
  {
   "cell_type": "code",
   "execution_count": 95,
   "id": "b262ad6d-5248-4c1e-87c6-9a92059e2850",
   "metadata": {},
   "outputs": [
    {
     "name": "stdout",
     "output_type": "stream",
     "text": [
      "Index(['disease'], dtype='object')\n"
     ]
    }
   ],
   "source": [
    "objList = data.select_dtypes(include = \"object\").columns\n",
    "print (objList)"
   ]
  },
  {
   "cell_type": "code",
   "execution_count": 96,
   "id": "78179137-9880-48a1-8a73-d5a04cc6faec",
   "metadata": {},
   "outputs": [
    {
     "name": "stdout",
     "output_type": "stream",
     "text": [
      "<class 'pandas.core.frame.DataFrame'>\n",
      "RangeIndex: 4920 entries, 0 to 4919\n",
      "Columns: 173 entries, coma to disease\n",
      "dtypes: float64(172), object(1)\n",
      "memory usage: 6.5+ MB\n",
      "None\n"
     ]
    }
   ],
   "source": [
    "print (data.info())"
   ]
  },
  {
   "cell_type": "code",
   "execution_count": 97,
   "id": "442666f1-3d4c-4b8b-a344-830823e6cec9",
   "metadata": {},
   "outputs": [
    {
     "name": "stdout",
     "output_type": "stream",
     "text": [
      "<class 'pandas.core.frame.DataFrame'>\n",
      "RangeIndex: 4920 entries, 0 to 4919\n",
      "Columns: 173 entries, coma to disease\n",
      "dtypes: float64(172), int32(1)\n",
      "memory usage: 6.5 MB\n",
      "None\n"
     ]
    }
   ],
   "source": [
    "from sklearn.preprocessing import LabelEncoder\n",
    "le = LabelEncoder()\n",
    "\n",
    "for feat in objList:\n",
    "    data[feat] = le.fit_transform(data[feat].astype(str))\n",
    "\n",
    "print (data.info())"
   ]
  },
  {
   "cell_type": "code",
   "execution_count": 98,
   "id": "b4e292dd-ad64-4850-8a39-281f6b5724d3",
   "metadata": {},
   "outputs": [],
   "source": [
    "symp=[]\n",
    "disease=[]\n",
    "for i in range(len(data)):\n",
    "    symp.append(data.columns[data.iloc[i]==1].to_list())\n",
    "    disease.append(data.iloc[i,-1])"
   ]
  },
  {
   "cell_type": "code",
   "execution_count": 99,
   "id": "4f3a330f-d949-4fcf-ac33-a0d0b504041e",
   "metadata": {},
   "outputs": [
    {
     "data": {
      "text/plain": [
       "['skin_rash',\n",
       " 'nodal_skin_eruptions',\n",
       " 'itching',\n",
       " 'dischromic _patches',\n",
       " 'Fungal infection']"
      ]
     },
     "execution_count": 99,
     "metadata": {},
     "output_type": "execute_result"
    }
   ],
   "source": [
    "symp[0]"
   ]
  },
  {
   "cell_type": "code",
   "execution_count": 100,
   "id": "b141cdaf-c1aa-43f3-a846-c41c1748a61f",
   "metadata": {},
   "outputs": [],
   "source": [
    "all_symp_col=list(data.columns[:-1])\n",
    "def clean_symp(sym):\n",
    "    return sym.replace('_',' ').replace('.1','').replace('(typhos)','').replace('yellowish','yellow').replace('yellowing','yellow') "
   ]
  },
  {
   "cell_type": "code",
   "execution_count": 101,
   "id": "6ba7d9f0-6e4b-489f-99a8-d378c47870ec",
   "metadata": {},
   "outputs": [],
   "source": [
    "all_symp=[clean_symp(sym) for sym in (all_symp_col)]"
   ]
  },
  {
   "cell_type": "code",
   "execution_count": 102,
   "id": "388111a5-5cb3-475d-870c-3771993a837b",
   "metadata": {},
   "outputs": [],
   "source": [
    "found_syns=[]\n",
    "notFound_syns=[]\n",
    "for sym in all_symp:\n",
    "    if not wn.synsets(sym) :\n",
    "        notFound_syns.append(sym)\n",
    "    else:\n",
    "        found_syns.append(sym)"
   ]
  },
  {
   "cell_type": "code",
   "execution_count": 103,
   "id": "4af75ce4-7ab3-4a13-a68f-1818e71f1ab3",
   "metadata": {},
   "outputs": [
    {
     "name": "stdout",
     "output_type": "stream",
     "text": [
      "Found disease in wordnet 52\n"
     ]
    }
   ],
   "source": [
    "print(f'Found disease in wordnet {len(found_syns)}')"
   ]
  },
  {
   "cell_type": "code",
   "execution_count": 104,
   "id": "e9bd2ec0-aff6-4d9c-9496-5b4cf0a8ec74",
   "metadata": {},
   "outputs": [
    {
     "name": "stdout",
     "output_type": "stream",
     "text": [
      "Not found disease in wordnet 120\n"
     ]
    }
   ],
   "source": [
    "print(f'Not found disease in wordnet {len(notFound_syns)}')"
   ]
  },
  {
   "cell_type": "markdown",
   "id": "761d0410-2580-4799-9864-2f93910e1f97",
   "metadata": {},
   "source": [
    "#### CREATING KNeighborsClassifier for prediction"
   ]
  },
  {
   "cell_type": "code",
   "execution_count": 105,
   "id": "acfe6af7-536a-458d-a8d4-0901e4d20c06",
   "metadata": {},
   "outputs": [],
   "source": [
    "from sklearn.model_selection import train_test_split\n",
    "X_train, X_test, y_train, y_test = train_test_split(data, y, test_size=0.3, random_state=0,stratify=y)"
   ]
  },
  {
   "cell_type": "code",
   "execution_count": 106,
   "id": "56301b7e-cb1d-42ab-a8f6-acee114942bb",
   "metadata": {},
   "outputs": [
    {
     "data": {
      "text/html": [
       "<div>\n",
       "<style scoped>\n",
       "    .dataframe tbody tr th:only-of-type {\n",
       "        vertical-align: middle;\n",
       "    }\n",
       "\n",
       "    .dataframe tbody tr th {\n",
       "        vertical-align: top;\n",
       "    }\n",
       "\n",
       "    .dataframe thead th {\n",
       "        text-align: right;\n",
       "    }\n",
       "</style>\n",
       "<table border=\"1\" class=\"dataframe\">\n",
       "  <thead>\n",
       "    <tr style=\"text-align: right;\">\n",
       "      <th></th>\n",
       "      <th>disease</th>\n",
       "    </tr>\n",
       "  </thead>\n",
       "  <tbody>\n",
       "    <tr>\n",
       "      <th>959</th>\n",
       "      <td>Paralysis (brain hemorrhage)</td>\n",
       "    </tr>\n",
       "    <tr>\n",
       "      <th>511</th>\n",
       "      <td>Hypertension</td>\n",
       "    </tr>\n",
       "    <tr>\n",
       "      <th>3765</th>\n",
       "      <td>Osteoarthristis</td>\n",
       "    </tr>\n",
       "    <tr>\n",
       "      <th>923</th>\n",
       "      <td>Hypertension</td>\n",
       "    </tr>\n",
       "    <tr>\n",
       "      <th>2010</th>\n",
       "      <td>Acne</td>\n",
       "    </tr>\n",
       "  </tbody>\n",
       "</table>\n",
       "</div>"
      ],
      "text/plain": [
       "                           disease\n",
       "959   Paralysis (brain hemorrhage)\n",
       "511                  Hypertension \n",
       "3765               Osteoarthristis\n",
       "923                  Hypertension \n",
       "2010                          Acne"
      ]
     },
     "execution_count": 106,
     "metadata": {},
     "output_type": "execute_result"
    }
   ],
   "source": [
    "y_train.head()"
   ]
  },
  {
   "cell_type": "code",
   "execution_count": 107,
   "id": "4f6891c9-debc-4eee-ab46-d5ca99d7519a",
   "metadata": {},
   "outputs": [],
   "source": [
    "disease = data[[\"disease\"]]"
   ]
  },
  {
   "cell_type": "code",
   "execution_count": 108,
   "id": "b1a8134d-1c0c-42a6-bfc4-d5c1cc6b8cb0",
   "metadata": {},
   "outputs": [
    {
     "data": {
      "text/html": [
       "<div>\n",
       "<style scoped>\n",
       "    .dataframe tbody tr th:only-of-type {\n",
       "        vertical-align: middle;\n",
       "    }\n",
       "\n",
       "    .dataframe tbody tr th {\n",
       "        vertical-align: top;\n",
       "    }\n",
       "\n",
       "    .dataframe thead th {\n",
       "        text-align: right;\n",
       "    }\n",
       "</style>\n",
       "<table border=\"1\" class=\"dataframe\">\n",
       "  <thead>\n",
       "    <tr style=\"text-align: right;\">\n",
       "      <th></th>\n",
       "      <th>coma</th>\n",
       "      <th>cramps</th>\n",
       "      <th>sweating</th>\n",
       "      <th>skin_rash</th>\n",
       "      <th>rusty_sputum</th>\n",
       "      <th>mild_fever</th>\n",
       "      <th>excessive_hunger</th>\n",
       "      <th>cough</th>\n",
       "      <th>lack_of_concentration</th>\n",
       "      <th>pain_behind_the_eyes</th>\n",
       "      <th>...</th>\n",
       "      <th>Hyperthyroidism</th>\n",
       "      <th>Hypoglycemia</th>\n",
       "      <th>Osteoarthristis</th>\n",
       "      <th>Arthritis</th>\n",
       "      <th>(vertigo) Paroymsal  Positional Vertigo</th>\n",
       "      <th>Acne</th>\n",
       "      <th>Urinary tract infection</th>\n",
       "      <th>Psoriasis</th>\n",
       "      <th>Impetigo</th>\n",
       "      <th>disease</th>\n",
       "    </tr>\n",
       "  </thead>\n",
       "  <tbody>\n",
       "    <tr>\n",
       "      <th>959</th>\n",
       "      <td>0.0</td>\n",
       "      <td>0.0</td>\n",
       "      <td>0.0</td>\n",
       "      <td>0.0</td>\n",
       "      <td>0.0</td>\n",
       "      <td>0.0</td>\n",
       "      <td>0.0</td>\n",
       "      <td>0.0</td>\n",
       "      <td>0.0</td>\n",
       "      <td>0.0</td>\n",
       "      <td>...</td>\n",
       "      <td>0.0</td>\n",
       "      <td>0.0</td>\n",
       "      <td>0.0</td>\n",
       "      <td>0.0</td>\n",
       "      <td>0.0</td>\n",
       "      <td>0.0</td>\n",
       "      <td>0.0</td>\n",
       "      <td>0.0</td>\n",
       "      <td>0.0</td>\n",
       "      <td>32</td>\n",
       "    </tr>\n",
       "    <tr>\n",
       "      <th>511</th>\n",
       "      <td>0.0</td>\n",
       "      <td>0.0</td>\n",
       "      <td>0.0</td>\n",
       "      <td>0.0</td>\n",
       "      <td>0.0</td>\n",
       "      <td>0.0</td>\n",
       "      <td>0.0</td>\n",
       "      <td>0.0</td>\n",
       "      <td>1.0</td>\n",
       "      <td>0.0</td>\n",
       "      <td>...</td>\n",
       "      <td>0.0</td>\n",
       "      <td>0.0</td>\n",
       "      <td>0.0</td>\n",
       "      <td>0.0</td>\n",
       "      <td>0.0</td>\n",
       "      <td>0.0</td>\n",
       "      <td>0.0</td>\n",
       "      <td>0.0</td>\n",
       "      <td>0.0</td>\n",
       "      <td>23</td>\n",
       "    </tr>\n",
       "    <tr>\n",
       "      <th>3765</th>\n",
       "      <td>0.0</td>\n",
       "      <td>0.0</td>\n",
       "      <td>0.0</td>\n",
       "      <td>0.0</td>\n",
       "      <td>0.0</td>\n",
       "      <td>0.0</td>\n",
       "      <td>0.0</td>\n",
       "      <td>0.0</td>\n",
       "      <td>0.0</td>\n",
       "      <td>0.0</td>\n",
       "      <td>...</td>\n",
       "      <td>0.0</td>\n",
       "      <td>0.0</td>\n",
       "      <td>1.0</td>\n",
       "      <td>0.0</td>\n",
       "      <td>0.0</td>\n",
       "      <td>0.0</td>\n",
       "      <td>0.0</td>\n",
       "      <td>0.0</td>\n",
       "      <td>0.0</td>\n",
       "      <td>31</td>\n",
       "    </tr>\n",
       "    <tr>\n",
       "      <th>923</th>\n",
       "      <td>0.0</td>\n",
       "      <td>0.0</td>\n",
       "      <td>0.0</td>\n",
       "      <td>0.0</td>\n",
       "      <td>0.0</td>\n",
       "      <td>0.0</td>\n",
       "      <td>0.0</td>\n",
       "      <td>0.0</td>\n",
       "      <td>1.0</td>\n",
       "      <td>0.0</td>\n",
       "      <td>...</td>\n",
       "      <td>0.0</td>\n",
       "      <td>0.0</td>\n",
       "      <td>0.0</td>\n",
       "      <td>0.0</td>\n",
       "      <td>0.0</td>\n",
       "      <td>0.0</td>\n",
       "      <td>0.0</td>\n",
       "      <td>0.0</td>\n",
       "      <td>0.0</td>\n",
       "      <td>23</td>\n",
       "    </tr>\n",
       "    <tr>\n",
       "      <th>2010</th>\n",
       "      <td>0.0</td>\n",
       "      <td>0.0</td>\n",
       "      <td>0.0</td>\n",
       "      <td>1.0</td>\n",
       "      <td>0.0</td>\n",
       "      <td>0.0</td>\n",
       "      <td>0.0</td>\n",
       "      <td>0.0</td>\n",
       "      <td>0.0</td>\n",
       "      <td>0.0</td>\n",
       "      <td>...</td>\n",
       "      <td>0.0</td>\n",
       "      <td>0.0</td>\n",
       "      <td>0.0</td>\n",
       "      <td>0.0</td>\n",
       "      <td>0.0</td>\n",
       "      <td>1.0</td>\n",
       "      <td>0.0</td>\n",
       "      <td>0.0</td>\n",
       "      <td>0.0</td>\n",
       "      <td>2</td>\n",
       "    </tr>\n",
       "  </tbody>\n",
       "</table>\n",
       "<p>5 rows × 173 columns</p>\n",
       "</div>"
      ],
      "text/plain": [
       "      coma  cramps  sweating  skin_rash  rusty_sputum  mild_fever  \\\n",
       "959    0.0     0.0       0.0        0.0           0.0         0.0   \n",
       "511    0.0     0.0       0.0        0.0           0.0         0.0   \n",
       "3765   0.0     0.0       0.0        0.0           0.0         0.0   \n",
       "923    0.0     0.0       0.0        0.0           0.0         0.0   \n",
       "2010   0.0     0.0       0.0        1.0           0.0         0.0   \n",
       "\n",
       "      excessive_hunger  cough  lack_of_concentration  pain_behind_the_eyes  \\\n",
       "959                0.0    0.0                    0.0                   0.0   \n",
       "511                0.0    0.0                    1.0                   0.0   \n",
       "3765               0.0    0.0                    0.0                   0.0   \n",
       "923                0.0    0.0                    1.0                   0.0   \n",
       "2010               0.0    0.0                    0.0                   0.0   \n",
       "\n",
       "      ...  Hyperthyroidism  Hypoglycemia  Osteoarthristis  Arthritis  \\\n",
       "959   ...              0.0           0.0              0.0        0.0   \n",
       "511   ...              0.0           0.0              0.0        0.0   \n",
       "3765  ...              0.0           0.0              1.0        0.0   \n",
       "923   ...              0.0           0.0              0.0        0.0   \n",
       "2010  ...              0.0           0.0              0.0        0.0   \n",
       "\n",
       "      (vertigo) Paroymsal  Positional Vertigo  Acne  Urinary tract infection  \\\n",
       "959                                       0.0   0.0                      0.0   \n",
       "511                                       0.0   0.0                      0.0   \n",
       "3765                                      0.0   0.0                      0.0   \n",
       "923                                       0.0   0.0                      0.0   \n",
       "2010                                      0.0   1.0                      0.0   \n",
       "\n",
       "      Psoriasis  Impetigo  disease  \n",
       "959         0.0       0.0       32  \n",
       "511         0.0       0.0       23  \n",
       "3765        0.0       0.0       31  \n",
       "923         0.0       0.0       23  \n",
       "2010        0.0       0.0        2  \n",
       "\n",
       "[5 rows x 173 columns]"
      ]
     },
     "execution_count": 108,
     "metadata": {},
     "output_type": "execute_result"
    }
   ],
   "source": [
    "X_train.head()"
   ]
  },
  {
   "cell_type": "markdown",
   "id": "2d97dcb3-cfe2-4973-90c4-9012c54e1e79",
   "metadata": {},
   "source": [
    "## Decision Tree"
   ]
  },
  {
   "cell_type": "code",
   "execution_count": 116,
   "id": "f6925a32-c991-4616-94c0-427d723f2870",
   "metadata": {},
   "outputs": [
    {
     "name": "stdout",
     "output_type": "stream",
     "text": [
      "{'criterion': 'entropy', 'max_depth': 9}\n",
      "1.0\n"
     ]
    }
   ],
   "source": [
    "from sklearn.tree import DecisionTreeClassifier\n",
    "from sklearn.model_selection import GridSearchCV\n",
    "from sklearn import metrics\n",
    "tree = DecisionTreeClassifier()\n",
    "tree_params = [{'max_depth': list(range(5, 15)), 'criterion': [\"entropy\",\"gini\"]}]\n",
    "clf = GridSearchCV(tree, tree_params, cv = 10, scoring='accuracy')\n",
    "clf.fit(X_train, y_train)\n",
    "print(clf.best_params_)\n",
    "print(clf.best_score_)"
   ]
  },
  {
   "cell_type": "code",
   "execution_count": 122,
   "id": "5d94f200-b517-4cc1-ab23-14613fffb519",
   "metadata": {},
   "outputs": [
    {
     "name": "stdout",
     "output_type": "stream",
     "text": [
      "Accuracy on training: 1.00\n",
      "Accuracy on test: 1.00\n"
     ]
    }
   ],
   "source": [
    "decision_tree = DecisionTreeClassifier(max_depth=9,criterion=\"entropy\")\n",
    "decision_tree.fit(X_train,y_train)\n",
    "print(\"Accuracy on training: {:.2f}\".format(decision_tree.score(X_train, y_train)))\n",
    "print(\"Accuracy on test: {:.2f}\".format(decision_tree.score(X_test, y_test)))"
   ]
  },
  {
   "cell_type": "code",
   "execution_count": 124,
   "id": "ad41a6e3-6430-4ae4-943d-bc0b1a9ff465",
   "metadata": {},
   "outputs": [
    {
     "name": "stdout",
     "output_type": "stream",
     "text": [
      "                                         precision    recall  f1-score   support\n",
      "\n",
      "(vertigo) Paroymsal  Positional Vertigo       1.00      1.00      1.00        36\n",
      "                                   AIDS       1.00      1.00      1.00        36\n",
      "                                   Acne       1.00      1.00      1.00        36\n",
      "                    Alcoholic hepatitis       1.00      1.00      1.00        36\n",
      "                                Allergy       1.00      1.00      1.00        36\n",
      "                              Arthritis       1.00      1.00      1.00        36\n",
      "                       Bronchial Asthma       1.00      1.00      1.00        36\n",
      "                   Cervical spondylosis       1.00      1.00      1.00        36\n",
      "                            Chicken pox       1.00      1.00      1.00        36\n",
      "                    Chronic cholestasis       1.00      1.00      1.00        36\n",
      "                            Common Cold       1.00      1.00      1.00        36\n",
      "                                 Dengue       1.00      1.00      1.00        36\n",
      "                              Diabetes        1.00      1.00      1.00        36\n",
      "           Dimorphic hemmorhoids(piles)       1.00      1.00      1.00        36\n",
      "                          Drug Reaction       1.00      1.00      1.00        36\n",
      "                       Fungal infection       1.00      1.00      1.00        36\n",
      "                                   GERD       1.00      1.00      1.00        36\n",
      "                        Gastroenteritis       1.00      1.00      1.00        36\n",
      "                           Heart attack       1.00      1.00      1.00        36\n",
      "                            Hepatitis B       1.00      1.00      1.00        36\n",
      "                            Hepatitis C       1.00      1.00      1.00        36\n",
      "                            Hepatitis D       1.00      1.00      1.00        36\n",
      "                            Hepatitis E       1.00      1.00      1.00        36\n",
      "                          Hypertension        1.00      1.00      1.00        36\n",
      "                        Hyperthyroidism       1.00      1.00      1.00        36\n",
      "                           Hypoglycemia       1.00      1.00      1.00        36\n",
      "                         Hypothyroidism       1.00      1.00      1.00        36\n",
      "                               Impetigo       1.00      1.00      1.00        36\n",
      "                               Jaundice       1.00      1.00      1.00        36\n",
      "                                Malaria       1.00      1.00      1.00        36\n",
      "                               Migraine       1.00      1.00      1.00        36\n",
      "                        Osteoarthristis       1.00      1.00      1.00        36\n",
      "           Paralysis (brain hemorrhage)       1.00      1.00      1.00        36\n",
      "                    Peptic ulcer diseae       1.00      1.00      1.00        36\n",
      "                              Pneumonia       1.00      1.00      1.00        36\n",
      "                              Psoriasis       1.00      1.00      1.00        36\n",
      "                           Tuberculosis       1.00      1.00      1.00        36\n",
      "                                Typhoid       1.00      1.00      1.00        36\n",
      "                Urinary tract infection       1.00      1.00      1.00        36\n",
      "                         Varicose veins       1.00      1.00      1.00        36\n",
      "                            hepatitis A       1.00      1.00      1.00        36\n",
      "\n",
      "                               accuracy                           1.00      1476\n",
      "                              macro avg       1.00      1.00      1.00      1476\n",
      "                           weighted avg       1.00      1.00      1.00      1476\n",
      "\n"
     ]
    }
   ],
   "source": [
    "print(classification_report(y_test,decision_tree.predict(X_test)))"
   ]
  },
  {
   "cell_type": "markdown",
   "id": "42cf81fd-028c-4934-ac1f-5ade0f32cee9",
   "metadata": {},
   "source": [
    "## KNN"
   ]
  },
  {
   "cell_type": "code",
   "execution_count": 118,
   "id": "b1eff9cc-dc69-4a1e-bb50-5ff4b7b3312c",
   "metadata": {},
   "outputs": [
    {
     "name": "stdout",
     "output_type": "stream",
     "text": [
      "{'n_neighbors': 1}\n",
      "1.0\n"
     ]
    }
   ],
   "source": [
    "from sklearn.neighbors import KNeighborsClassifier  \n",
    "knn = KNeighborsClassifier()\n",
    "knn_params= {\"n_neighbors\":list(range(1, 20))}\n",
    "clf4 = GridSearchCV(knn, knn_params, cv = 10, scoring='accuracy')\n",
    "clf4.fit(X_train, y_train)\n",
    "print(clf4.best_params_)\n",
    "print(clf4.best_score_)"
   ]
  },
  {
   "cell_type": "code",
   "execution_count": 121,
   "id": "7d63b536-c263-4687-a5d0-4dfb0c79f25c",
   "metadata": {},
   "outputs": [
    {
     "name": "stdout",
     "output_type": "stream",
     "text": [
      "Accuracy on training: 1.00\n",
      "Accuracy on test: 1.00\n"
     ]
    }
   ],
   "source": [
    "knn_model_1 = KNeighborsClassifier(n_neighbors=1) \n",
    "knn_model_1.fit(X_train, y_train) \n",
    "print(\"Accuracy on training: {:.2f}\".format(knn_model_1.score(X_train, y_train)))\n",
    "print(\"Accuracy on test: {:.2f}\".format(knn_model_1.score(X_test, y_test)))"
   ]
  },
  {
   "cell_type": "code",
   "execution_count": 110,
   "id": "e4f27bc8-ce03-412b-bd70-f590dfa71a10",
   "metadata": {},
   "outputs": [
    {
     "name": "stdout",
     "output_type": "stream",
     "text": [
      "                                         precision    recall  f1-score   support\n",
      "\n",
      "(vertigo) Paroymsal  Positional Vertigo       1.00      1.00      1.00        36\n",
      "                                   AIDS       1.00      1.00      1.00        36\n",
      "                                   Acne       1.00      1.00      1.00        36\n",
      "                    Alcoholic hepatitis       1.00      1.00      1.00        36\n",
      "                                Allergy       1.00      1.00      1.00        36\n",
      "                              Arthritis       1.00      1.00      1.00        36\n",
      "                       Bronchial Asthma       1.00      1.00      1.00        36\n",
      "                   Cervical spondylosis       1.00      1.00      1.00        36\n",
      "                            Chicken pox       1.00      1.00      1.00        36\n",
      "                    Chronic cholestasis       1.00      1.00      1.00        36\n",
      "                            Common Cold       1.00      1.00      1.00        36\n",
      "                                 Dengue       1.00      1.00      1.00        36\n",
      "                              Diabetes        1.00      1.00      1.00        36\n",
      "           Dimorphic hemmorhoids(piles)       1.00      1.00      1.00        36\n",
      "                          Drug Reaction       1.00      1.00      1.00        36\n",
      "                       Fungal infection       1.00      1.00      1.00        36\n",
      "                                   GERD       1.00      1.00      1.00        36\n",
      "                        Gastroenteritis       1.00      1.00      1.00        36\n",
      "                           Heart attack       1.00      1.00      1.00        36\n",
      "                            Hepatitis B       1.00      1.00      1.00        36\n",
      "                            Hepatitis C       1.00      1.00      1.00        36\n",
      "                            Hepatitis D       1.00      1.00      1.00        36\n",
      "                            Hepatitis E       1.00      1.00      1.00        36\n",
      "                          Hypertension        1.00      1.00      1.00        36\n",
      "                        Hyperthyroidism       1.00      1.00      1.00        36\n",
      "                           Hypoglycemia       1.00      1.00      1.00        36\n",
      "                         Hypothyroidism       1.00      1.00      1.00        36\n",
      "                               Impetigo       1.00      1.00      1.00        36\n",
      "                               Jaundice       1.00      1.00      1.00        36\n",
      "                                Malaria       1.00      1.00      1.00        36\n",
      "                               Migraine       1.00      1.00      1.00        36\n",
      "                        Osteoarthristis       1.00      1.00      1.00        36\n",
      "           Paralysis (brain hemorrhage)       1.00      1.00      1.00        36\n",
      "                    Peptic ulcer diseae       1.00      1.00      1.00        36\n",
      "                              Pneumonia       1.00      1.00      1.00        36\n",
      "                              Psoriasis       1.00      1.00      1.00        36\n",
      "                           Tuberculosis       1.00      1.00      1.00        36\n",
      "                                Typhoid       1.00      1.00      1.00        36\n",
      "                Urinary tract infection       1.00      1.00      1.00        36\n",
      "                         Varicose veins       1.00      1.00      1.00        36\n",
      "                            hepatitis A       1.00      1.00      1.00        36\n",
      "\n",
      "                               accuracy                           1.00      1476\n",
      "                              macro avg       1.00      1.00      1.00      1476\n",
      "                           weighted avg       1.00      1.00      1.00      1476\n",
      "\n"
     ]
    }
   ],
   "source": [
    "print(classification_report(y_test,knn_model_1.predict(X_test)))"
   ]
  },
  {
   "cell_type": "code",
   "execution_count": null,
   "id": "06d34224-6c3a-40a2-8051-723af4c8650b",
   "metadata": {},
   "outputs": [],
   "source": []
  }
 ],
 "metadata": {
  "kernelspec": {
   "display_name": "Python 3 (ipykernel)",
   "language": "python",
   "name": "python3"
  },
  "language_info": {
   "codemirror_mode": {
    "name": "ipython",
    "version": 3
   },
   "file_extension": ".py",
   "mimetype": "text/x-python",
   "name": "python",
   "nbconvert_exporter": "python",
   "pygments_lexer": "ipython3",
   "version": "3.9.13"
  }
 },
 "nbformat": 4,
 "nbformat_minor": 5
}
